{
 "cells": [
  {
   "cell_type": "markdown",
   "id": "f8fe323e",
   "metadata": {},
   "source": [
    "# Simple network\n",
    "\n",
    "This network is composed of 3 machines: Starting_Client, Backup_Server, Active_Directory (final target).\n",
    "\n",
    "The process that the attack needs to take to arrive at the final target is the following:\n",
    "\n",
    "```\n",
    "Starting_Client -> Discover Backup_Server (Exploration) -> Discover Hard Coded creds for Backup_Server -> Infect Backup_Server (Lateral movement) -> Get admin access to backup server (Vertical movement) ->  Discover Active_Directory -> Infect Active Directory (Lateral movement). \n",
    "```"
   ]
  },
  {
   "cell_type": "code",
   "execution_count": null,
   "id": "777730a3",
   "metadata": {},
   "outputs": [],
   "source": [
    "import sys, logging\n",
    "import cyberbattle.simulation.model as model\n",
    "import cyberbattle.simulation.commandcontrol as commandcontrol\n",
    "import cyberbattle.networks.simple_network as sn\n",
    "import plotly.offline as plo\n",
    "\n",
    "plo.init_notebook_mode(connected=True) # type: ignore\n",
    "logging.basicConfig(stream=sys.stdout, level=logging.INFO, format=\"%(levelname)s: %(message)s\")\n",
    "%matplotlib inline"
   ]
  },
  {
   "cell_type": "code",
   "execution_count": null,
   "id": "0224b5c3",
   "metadata": {},
   "outputs": [],
   "source": [
    "network = model.create_network(sn.nodes)\n",
    "env = model.Environment(network=network, vulnerability_library=dict([]), identifiers=sn.ENV_IDENTIFIERS)\n",
    "env"
   ]
  },
  {
   "cell_type": "code",
   "execution_count": null,
   "id": "87f8632c",
   "metadata": {},
   "outputs": [],
   "source": [
    "c2 = commandcontrol.CommandControl(env)\n",
    "dbg = commandcontrol.EnvironmentDebugging(c2)\n",
    "\n",
    "\n",
    "def plot():\n",
    "    dbg.plot_discovered_network()\n",
    "    c2.print_all_attacks()\n",
    "\n",
    "\n",
    "# plot()"
   ]
  },
  {
   "cell_type": "markdown",
   "id": "d78ef9fc",
   "metadata": {},
   "source": [
    "## Discover Backup_Server"
   ]
  },
  {
   "cell_type": "code",
   "execution_count": null,
   "id": "cff2eab7",
   "metadata": {},
   "outputs": [],
   "source": [
    "outcome = c2.run_attack(\"Starting_Client\", \"ReadSourceCode_LeakedNode\")\n",
    "plot()"
   ]
  },
  {
   "cell_type": "markdown",
   "id": "dd44b837",
   "metadata": {},
   "source": [
    "## Discover Hard Coded creds for Backup_Server"
   ]
  },
  {
   "cell_type": "code",
   "execution_count": null,
   "id": "4a5eb90b",
   "metadata": {},
   "outputs": [],
   "source": [
    "outcome = c2.run_attack(\"Starting_Client\", \"ReadSourceCode_LeakedCreds\")\n",
    "plot()\n",
    "c2.credentials_gathered_so_far"
   ]
  },
  {
   "cell_type": "markdown",
   "id": "d397c1d0",
   "metadata": {},
   "source": [
    "## Infect Backup_Server (Lateral movement)"
   ]
  },
  {
   "cell_type": "code",
   "execution_count": null,
   "id": "720dec87",
   "metadata": {},
   "outputs": [],
   "source": [
    "backup_server = c2.connect_and_infect(\n",
    "    source_node_id=\"Starting_Client\",\n",
    "    target_node_id=\"Backup_Server\",\n",
    "    credentials=\"BckUserCreds\",\n",
    "    port_name=\"SSH\"\n",
    ")\n",
    "plot()"
   ]
  },
  {
   "cell_type": "markdown",
   "id": "e6d62d56",
   "metadata": {},
   "source": [
    "## Get admin access to backup server (Vertical movement) "
   ]
  },
  {
   "cell_type": "code",
   "execution_count": null,
   "id": "40f50cb1",
   "metadata": {},
   "outputs": [],
   "source": [
    "outcome = c2.run_attack(\"Backup_Server\", \"WritableBackupScript\")\n",
    "plot()"
   ]
  },
  {
   "cell_type": "markdown",
   "id": "bea93e2f",
   "metadata": {},
   "source": [
    "## Discover Active_Directory "
   ]
  },
  {
   "cell_type": "code",
   "execution_count": null,
   "id": "8029c857",
   "metadata": {},
   "outputs": [],
   "source": [
    "outcome = c2.run_attack(\"Backup_Server\", \"ReadScriptLogs\")\n",
    "plot()"
   ]
  },
  {
   "cell_type": "markdown",
   "id": "f452ddd1",
   "metadata": {},
   "source": [
    "## Infect Active Directory (Lateral movement). \n"
   ]
  },
  {
   "cell_type": "code",
   "execution_count": null,
   "id": "794627b9",
   "metadata": {},
   "outputs": [],
   "source": [
    "c2.run_remote_attack(\"Backup_Server\", \"Active_Directory\", \"Remote_RDP_Exploit\")\n",
    "plot()"
   ]
  }
 ],
 "metadata": {
  "kernelspec": {
   "display_name": "cybersim",
   "language": "python",
   "name": "python3"
  },
  "language_info": {
   "codemirror_mode": {
    "name": "ipython",
    "version": 3
   },
   "file_extension": ".py",
   "mimetype": "text/x-python",
   "name": "python",
   "nbconvert_exporter": "python",
   "pygments_lexer": "ipython3",
   "version": "3.10.18"
  }
 },
 "nbformat": 4,
 "nbformat_minor": 5
}
