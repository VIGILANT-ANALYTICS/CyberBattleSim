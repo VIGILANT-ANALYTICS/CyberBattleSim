{
 "cells": [
  {
   "cell_type": "markdown",
   "id": "7e5e75ee",
   "metadata": {
    "papermill": {
     "duration": 0.004162,
     "end_time": "2024-08-05T18:49:26.409331",
     "exception": false,
     "start_time": "2024-08-05T18:49:26.405169",
     "status": "completed"
    },
    "tags": []
   },
   "source": [
    "Copyright (c) Microsoft Corporation. All rights reserved. Licensed under the MIT License.\n",
    "\n",
    "# Capture The Flag Toy Example - Solved manually"
   ]
  },
  {
   "cell_type": "markdown",
   "id": "c9a8ae6e",
   "metadata": {
    "papermill": {
     "duration": 0.00468,
     "end_time": "2024-08-05T18:49:26.417414",
     "exception": false,
     "start_time": "2024-08-05T18:49:26.412734",
     "status": "completed"
    },
    "tags": []
   },
   "source": [
    "This notebook demonstrates how to model a toy `Capture The Flag` security game as a CyberBattle environment."
   ]
  },
  {
   "cell_type": "code",
   "execution_count": null,
   "id": "8326d870",
   "metadata": {
    "execution": {
     "iopub.execute_input": "2024-08-05T18:49:26.430775Z",
     "iopub.status.busy": "2024-08-05T18:49:26.429880Z",
     "iopub.status.idle": "2024-08-05T18:49:27.413343Z",
     "shell.execute_reply": "2024-08-05T18:49:27.412391Z"
    },
    "papermill": {
     "duration": 0.99302,
     "end_time": "2024-08-05T18:49:27.415640",
     "exception": false,
     "start_time": "2024-08-05T18:49:26.422620",
     "status": "completed"
    },
    "scrolled": true,
    "tags": []
   },
   "outputs": [
    {
     "ename": "",
     "evalue": "",
     "output_type": "error",
     "traceback": [
      "\u001b[1;31mRunning cells with 'Python 3.12.10' requires the ipykernel package.\n",
      "\u001b[1;31m<a href='command:jupyter.createPythonEnvAndSelectController'>Create a Python Environment</a> with the required packages.\n",
      "\u001b[1;31mOr install 'ipykernel' using the command: 'c:/Python312/python.exe -m pip install ipykernel -U --user --force-reinstall'"
     ]
    }
   ],
   "source": [
    "import sys, logging\n",
    "import cyberbattle.simulation.model as model\n",
    "import cyberbattle.simulation.commandcontrol as commandcontrol\n",
    "import cyberbattle.samples.toyctf.toy_ctf as ctf\n",
    "\n",
    "logging.basicConfig(stream=sys.stdout, level=logging.INFO, format=\"%(levelname)s: %(message)s\")\n",
    "\n",
    "import plotly.offline as plo\n",
    "\n",
    "plo.init_notebook_mode(connected=True)\n",
    "%matplotlib inline"
   ]
  },
  {
   "cell_type": "code",
   "execution_count": null,
   "id": "08615928",
   "metadata": {
    "execution": {
     "iopub.execute_input": "2024-08-05T18:49:27.425974Z",
     "iopub.status.busy": "2024-08-05T18:49:27.425467Z",
     "iopub.status.idle": "2024-08-05T18:49:27.582432Z",
     "shell.execute_reply": "2024-08-05T18:49:27.581256Z"
    },
    "papermill": {
     "duration": 0.163809,
     "end_time": "2024-08-05T18:49:27.584636",
     "exception": false,
     "start_time": "2024-08-05T18:49:27.420827",
     "status": "completed"
    },
    "scrolled": true,
    "tags": []
   },
   "outputs": [],
   "source": [
    "network = model.create_network(ctf.nodes)\n",
    "env = model.Environment(network=network, vulnerability_library=dict([]), identifiers=ctf.ENV_IDENTIFIERS)\n",
    "env.plot_environment_graph()"
   ]
  },
  {
   "cell_type": "markdown",
   "id": "7f145bbd",
   "metadata": {
    "papermill": {
     "duration": 0.006343,
     "end_time": "2024-08-05T18:49:27.597701",
     "exception": false,
     "start_time": "2024-08-05T18:49:27.591358",
     "status": "completed"
    },
    "tags": []
   },
   "source": [
    "### Solution to the CTF\n",
    "\n",
    "This is the list of actions taken to capture 7 of the 8 flags from the CTF game.\n",
    "\n",
    "| Source      | Action | Result |\n",
    "|------------ | ------ | ------ |\n",
    "| WEBSITE     | page content has a link to github       | Discover Github project |\n",
    "| GITHUB      | navigate github history                 | **FLAG** Some secure access token (SAS) leaked in a reverted git commit (`CredScan`) |\n",
    "| AZURESTORAGE| access blob using SAS token             | |\n",
    "| WEBSITE     | view source HTML                        | Find URL to hidden .txt file on the website, extract directory path from it |\n",
    "|             | navigate to parent URL and find 3 files | **FLAG** Discover browseable web directory |\n",
    "|             | - readme.txt file                       | Discover secret data (the flag) | \n",
    "|             | - getting-started.txt                   | Discover MYSQL credentials | \n",
    "|             | - deprecation-checklist.txt             | Discover URL to external sharepoint website | \n",
    "| SHAREPOINT  | Navigate to sharepoint site             | **FLAG** Finding AD Service Principal Credentials on Sharepoint | \n",
    "| CLIENT-AZURE| `az resource` with creds from sharepoint| Obtain secrets hidden in azure managed resources |\n",
    "|             |                                         | Get AzureVM info, including public IP address |\n",
    "| CLIENT      | `ssh IP`                                | Failed attempt: internet incoming traffic blocked on the VM by NSG |\n",
    "| CLIENT      | SSH into WEBSITE with  mysql creds      | **FLAG** Shared credentials with database user|\n",
    "|             |                                         |**FLAG** Login using insecure SSH user/password|\n",
    "| WEBSITE/SSH | `history`                               |**FLAG**  Stealing credentials for the monitoring user|\n",
    "|             | `sudo -u monitor`                        | Failed! monitor not sudoable. message about being reported!\n",
    "| CLIENT      | SSH into WEBSITE with 'monitor creds     | Failed! password authentication disabled! looking for private key|\n",
    "| CLIENT      | SSH into WEBSITE as 'web'               | |\n",
    "|             | `su -u monitor` using password           |**FLAG**  User escalation by stealing credentials from bash history|\n",
    "|             | `cat ~/azurecreds.txt`                  | Get user credentials to Azure\n",
    "| CLIENT      | `az resource` with monitor's creds       | Steal more secrets\n"
   ]
  },
  {
   "cell_type": "code",
   "execution_count": null,
   "id": "43888671",
   "metadata": {
    "execution": {
     "iopub.execute_input": "2024-08-05T18:49:27.611494Z",
     "iopub.status.busy": "2024-08-05T18:49:27.610705Z",
     "iopub.status.idle": "2024-08-05T18:49:27.648790Z",
     "shell.execute_reply": "2024-08-05T18:49:27.647470Z"
    },
    "papermill": {
     "duration": 0.047045,
     "end_time": "2024-08-05T18:49:27.650608",
     "exception": false,
     "start_time": "2024-08-05T18:49:27.603563",
     "status": "completed"
    },
    "tags": []
   },
   "outputs": [],
   "source": [
    "c2 = commandcontrol.CommandControl(env)\n",
    "dbg = commandcontrol.EnvironmentDebugging(c2)\n",
    "\n",
    "# 1 - Start from client\n",
    "dbg.plot_discovered_network()"
   ]
  },
  {
   "cell_type": "code",
   "execution_count": null,
   "id": "4c44204f",
   "metadata": {
    "execution": {
     "iopub.execute_input": "2024-08-05T18:49:27.669580Z",
     "iopub.status.busy": "2024-08-05T18:49:27.668633Z",
     "iopub.status.idle": "2024-08-05T18:49:27.681992Z",
     "shell.execute_reply": "2024-08-05T18:49:27.680686Z"
    },
    "papermill": {
     "duration": 0.025212,
     "end_time": "2024-08-05T18:49:27.683935",
     "exception": false,
     "start_time": "2024-08-05T18:49:27.658723",
     "status": "completed"
    },
    "tags": []
   },
   "outputs": [],
   "source": [
    "c2.print_all_attacks()"
   ]
  },
  {
   "cell_type": "code",
   "execution_count": null,
   "id": "7510a69c",
   "metadata": {
    "execution": {
     "iopub.execute_input": "2024-08-05T18:49:27.706450Z",
     "iopub.status.busy": "2024-08-05T18:49:27.705709Z",
     "iopub.status.idle": "2024-08-05T18:49:27.737328Z",
     "shell.execute_reply": "2024-08-05T18:49:27.736111Z"
    },
    "papermill": {
     "duration": 0.044902,
     "end_time": "2024-08-05T18:49:27.739496",
     "exception": false,
     "start_time": "2024-08-05T18:49:27.694594",
     "status": "completed"
    },
    "tags": []
   },
   "outputs": [],
   "source": [
    "outcome = c2.run_attack(\"client\", \"SearchEdgeHistory\")\n",
    "dbg.plot_discovered_network()"
   ]
  },
  {
   "cell_type": "code",
   "execution_count": null,
   "id": "f1b34f99",
   "metadata": {
    "execution": {
     "iopub.execute_input": "2024-08-05T18:49:27.773075Z",
     "iopub.status.busy": "2024-08-05T18:49:27.772535Z",
     "iopub.status.idle": "2024-08-05T18:49:27.786236Z",
     "shell.execute_reply": "2024-08-05T18:49:27.785189Z"
    },
    "papermill": {
     "duration": 0.031906,
     "end_time": "2024-08-05T18:49:27.787970",
     "exception": false,
     "start_time": "2024-08-05T18:49:27.756064",
     "status": "completed"
    },
    "tags": []
   },
   "outputs": [],
   "source": [
    "c2.print_all_attacks()"
   ]
  },
  {
   "cell_type": "code",
   "execution_count": null,
   "id": "ea7d280c",
   "metadata": {
    "execution": {
     "iopub.execute_input": "2024-08-05T18:49:27.821527Z",
     "iopub.status.busy": "2024-08-05T18:49:27.820769Z",
     "iopub.status.idle": "2024-08-05T18:49:27.845092Z",
     "shell.execute_reply": "2024-08-05T18:49:27.843736Z"
    },
    "papermill": {
     "duration": 0.043435,
     "end_time": "2024-08-05T18:49:27.846931",
     "exception": false,
     "start_time": "2024-08-05T18:49:27.803496",
     "status": "completed"
    },
    "tags": []
   },
   "outputs": [],
   "source": [
    "# 2\n",
    "github = c2.run_remote_attack(\"client\", \"Website\", \"ScanPageContent\")\n",
    "dbg.plot_discovered_network()"
   ]
  },
  {
   "cell_type": "code",
   "execution_count": null,
   "id": "21d115b1",
   "metadata": {
    "execution": {
     "iopub.execute_input": "2024-08-05T18:49:27.886063Z",
     "iopub.status.busy": "2024-08-05T18:49:27.885269Z",
     "iopub.status.idle": "2024-08-05T18:49:27.912583Z",
     "shell.execute_reply": "2024-08-05T18:49:27.911569Z"
    },
    "papermill": {
     "duration": 0.049489,
     "end_time": "2024-08-05T18:49:27.914343",
     "exception": false,
     "start_time": "2024-08-05T18:49:27.864854",
     "status": "completed"
    },
    "tags": []
   },
   "outputs": [],
   "source": [
    "# 3\n",
    "leakedSasUrl = c2.run_remote_attack(\"client\", \"GitHubProject\", \"CredScanGitHistory\")\n",
    "dbg.plot_discovered_network()"
   ]
  },
  {
   "cell_type": "code",
   "execution_count": null,
   "id": "b3d3e7ac",
   "metadata": {
    "execution": {
     "iopub.execute_input": "2024-08-05T18:49:27.969782Z",
     "iopub.status.busy": "2024-08-05T18:49:27.968850Z",
     "iopub.status.idle": "2024-08-05T18:49:27.992061Z",
     "shell.execute_reply": "2024-08-05T18:49:27.991115Z"
    },
    "papermill": {
     "duration": 0.054136,
     "end_time": "2024-08-05T18:49:27.993854",
     "exception": false,
     "start_time": "2024-08-05T18:49:27.939718",
     "status": "completed"
    },
    "tags": []
   },
   "outputs": [],
   "source": [
    "# 4\n",
    "blobwithflag = c2.connect_and_infect(\"client\", \"AzureStorage\", \"HTTPS\", \"SASTOKEN1\")\n",
    "dbg.plot_discovered_network()\n",
    "blobwithflag"
   ]
  },
  {
   "cell_type": "code",
   "execution_count": null,
   "id": "85a30872",
   "metadata": {
    "execution": {
     "iopub.execute_input": "2024-08-05T18:49:28.053668Z",
     "iopub.status.busy": "2024-08-05T18:49:28.053142Z",
     "iopub.status.idle": "2024-08-05T18:49:28.076863Z",
     "shell.execute_reply": "2024-08-05T18:49:28.075583Z"
    },
    "papermill": {
     "duration": 0.062022,
     "end_time": "2024-08-05T18:49:28.078950",
     "exception": false,
     "start_time": "2024-08-05T18:49:28.016928",
     "status": "completed"
    },
    "tags": []
   },
   "outputs": [],
   "source": [
    "# 5\n",
    "browsableDirectory = c2.run_remote_attack(\"client\", \"Website\", \"ScanPageSource\")\n",
    "dbg.plot_discovered_network()"
   ]
  },
  {
   "cell_type": "code",
   "execution_count": null,
   "id": "354c1dc3",
   "metadata": {
    "execution": {
     "iopub.execute_input": "2024-08-05T18:49:28.152586Z",
     "iopub.status.busy": "2024-08-05T18:49:28.151810Z",
     "iopub.status.idle": "2024-08-05T18:49:28.180799Z",
     "shell.execute_reply": "2024-08-05T18:49:28.178678Z"
    },
    "papermill": {
     "duration": 0.064928,
     "end_time": "2024-08-05T18:49:28.183728",
     "exception": false,
     "start_time": "2024-08-05T18:49:28.118800",
     "status": "completed"
    },
    "tags": []
   },
   "outputs": [],
   "source": [
    "# 6\n",
    "outcome_mysqlleak = c2.run_remote_attack(\"client\", \"Website.Directory\", \"NavigateWebDirectoryFurther\")\n",
    "sharepoint_url = c2.run_remote_attack(\"client\", \"Website.Directory\", \"NavigateWebDirectory\")\n",
    "dbg.plot_discovered_network()"
   ]
  },
  {
   "cell_type": "code",
   "execution_count": null,
   "id": "92e1fbde",
   "metadata": {
    "execution": {
     "iopub.execute_input": "2024-08-05T18:49:28.259283Z",
     "iopub.status.busy": "2024-08-05T18:49:28.258648Z",
     "iopub.status.idle": "2024-08-05T18:49:28.283775Z",
     "shell.execute_reply": "2024-08-05T18:49:28.281878Z"
    },
    "papermill": {
     "duration": 0.067332,
     "end_time": "2024-08-05T18:49:28.286610",
     "exception": false,
     "start_time": "2024-08-05T18:49:28.219278",
     "status": "completed"
    },
    "tags": []
   },
   "outputs": [],
   "source": [
    "# 7\n",
    "outcome_azure_ad = c2.run_remote_attack(\"client\", \"Sharepoint\", \"ScanSharepointParentDirectory\")\n",
    "dbg.plot_discovered_network()"
   ]
  },
  {
   "cell_type": "code",
   "execution_count": null,
   "id": "d5007cfe",
   "metadata": {
    "execution": {
     "iopub.execute_input": "2024-08-05T18:49:28.373354Z",
     "iopub.status.busy": "2024-08-05T18:49:28.372838Z",
     "iopub.status.idle": "2024-08-05T18:49:28.405404Z",
     "shell.execute_reply": "2024-08-05T18:49:28.403906Z"
    },
    "papermill": {
     "duration": 0.075114,
     "end_time": "2024-08-05T18:49:28.407727",
     "exception": false,
     "start_time": "2024-08-05T18:49:28.332613",
     "status": "completed"
    },
    "tags": []
   },
   "outputs": [],
   "source": [
    "# 8\n",
    "azureVmInfo = c2.connect_and_infect(\"client\", \"AzureResourceManager\", \"HTTPS\", \"ADPrincipalCreds\")\n",
    "dbg.plot_discovered_network()"
   ]
  },
  {
   "cell_type": "code",
   "execution_count": null,
   "id": "90d861e6",
   "metadata": {
    "execution": {
     "iopub.execute_input": "2024-08-05T18:49:28.510363Z",
     "iopub.status.busy": "2024-08-05T18:49:28.509328Z",
     "iopub.status.idle": "2024-08-05T18:49:28.538512Z",
     "shell.execute_reply": "2024-08-05T18:49:28.537148Z"
    },
    "papermill": {
     "duration": 0.086188,
     "end_time": "2024-08-05T18:49:28.540744",
     "exception": false,
     "start_time": "2024-08-05T18:49:28.454556",
     "status": "completed"
    },
    "tags": []
   },
   "outputs": [],
   "source": [
    "c2.run_remote_attack(\"client\", \"AzureResourceManager\", \"ListAzureResources\")\n",
    "dbg.plot_discovered_network()"
   ]
  },
  {
   "cell_type": "code",
   "execution_count": null,
   "id": "4b48bfc1",
   "metadata": {
    "execution": {
     "iopub.execute_input": "2024-08-05T18:49:28.665385Z",
     "iopub.status.busy": "2024-08-05T18:49:28.664590Z",
     "iopub.status.idle": "2024-08-05T18:49:28.789981Z",
     "shell.execute_reply": "2024-08-05T18:49:28.788644Z"
    },
    "papermill": {
     "duration": 0.193337,
     "end_time": "2024-08-05T18:49:28.792348",
     "exception": false,
     "start_time": "2024-08-05T18:49:28.599011",
     "status": "completed"
    },
    "tags": []
   },
   "outputs": [],
   "source": [
    "# 9 - CLIENT: Attempt to SSH into AzureVM from IP retrieved from Azure Resource Manager\n",
    "should_fail = c2.connect_and_infect(\"client\", \"AzureVM\", \"SSH\", \"ReusedMySqlCred-web\")\n",
    "print(\"Success=\" + str(should_fail))\n",
    "dbg.plot_discovered_network()"
   ]
  },
  {
   "cell_type": "code",
   "execution_count": null,
   "id": "4a4ed55c",
   "metadata": {
    "execution": {
     "iopub.execute_input": "2024-08-05T18:49:29.021669Z",
     "iopub.status.busy": "2024-08-05T18:49:29.021080Z",
     "iopub.status.idle": "2024-08-05T18:49:29.050815Z",
     "shell.execute_reply": "2024-08-05T18:49:29.049714Z"
    },
    "papermill": {
     "duration": 0.17026,
     "end_time": "2024-08-05T18:49:29.053115",
     "exception": false,
     "start_time": "2024-08-05T18:49:28.882855",
     "status": "completed"
    },
    "tags": []
   },
   "outputs": [],
   "source": [
    "# 10\n",
    "owned = c2.connect_and_infect(\"client\", \"Website\", \"SSH\", \"ReusedMySqlCred-web\")\n",
    "dbg.plot_discovered_network()"
   ]
  },
  {
   "cell_type": "code",
   "execution_count": null,
   "id": "46d4e80f",
   "metadata": {
    "execution": {
     "iopub.execute_input": "2024-08-05T18:49:29.219855Z",
     "iopub.status.busy": "2024-08-05T18:49:29.219148Z",
     "iopub.status.idle": "2024-08-05T18:49:29.253310Z",
     "shell.execute_reply": "2024-08-05T18:49:29.252488Z"
    },
    "papermill": {
     "duration": 0.127269,
     "end_time": "2024-08-05T18:49:29.255999",
     "exception": false,
     "start_time": "2024-08-05T18:49:29.128730",
     "status": "completed"
    },
    "tags": []
   },
   "outputs": [],
   "source": [
    "# 11\n",
    "outcome = c2.run_attack(\"Website\", \"CredScanBashHistory\")\n",
    "dbg.plot_discovered_network()"
   ]
  },
  {
   "cell_type": "code",
   "execution_count": null,
   "id": "47aedc6f",
   "metadata": {
    "execution": {
     "iopub.execute_input": "2024-08-05T18:49:29.424962Z",
     "iopub.status.busy": "2024-08-05T18:49:29.423868Z",
     "iopub.status.idle": "2024-08-05T18:49:29.437168Z",
     "shell.execute_reply": "2024-08-05T18:49:29.435973Z"
    },
    "papermill": {
     "duration": 0.094837,
     "end_time": "2024-08-05T18:49:29.438767",
     "exception": false,
     "start_time": "2024-08-05T18:49:29.343930",
     "status": "completed"
    },
    "scrolled": true,
    "tags": []
   },
   "outputs": [],
   "source": [
    "c2.print_all_attacks()"
   ]
  },
  {
   "cell_type": "code",
   "execution_count": null,
   "id": "def8b48b",
   "metadata": {
    "execution": {
     "iopub.execute_input": "2024-08-05T18:49:29.599181Z",
     "iopub.status.busy": "2024-08-05T18:49:29.598441Z",
     "iopub.status.idle": "2024-08-05T18:49:29.628712Z",
     "shell.execute_reply": "2024-08-05T18:49:29.627484Z"
    },
    "papermill": {
     "duration": 0.117211,
     "end_time": "2024-08-05T18:49:29.631357",
     "exception": false,
     "start_time": "2024-08-05T18:49:29.514146",
     "status": "completed"
    },
    "tags": []
   },
   "outputs": [],
   "source": [
    "# 12\n",
    "should_fail = c2.connect_and_infect(\"Website\", \"Website[user=monitor]\", \"sudo\", \"monitorBashCreds\")\n",
    "dbg.plot_discovered_network()"
   ]
  },
  {
   "cell_type": "code",
   "execution_count": null,
   "id": "884ee468",
   "metadata": {
    "execution": {
     "iopub.execute_input": "2024-08-05T18:49:29.808243Z",
     "iopub.status.busy": "2024-08-05T18:49:29.807364Z",
     "iopub.status.idle": "2024-08-05T18:49:29.833408Z",
     "shell.execute_reply": "2024-08-05T18:49:29.831828Z"
    },
    "papermill": {
     "duration": 0.112087,
     "end_time": "2024-08-05T18:49:29.835606",
     "exception": false,
     "start_time": "2024-08-05T18:49:29.723519",
     "status": "completed"
    },
    "tags": []
   },
   "outputs": [],
   "source": [
    "# 13\n",
    "should_fail = c2.connect_and_infect(\"client\", \"Website[user=monitor]\", \"SSH\", \"monitorBashCreds\")\n",
    "dbg.plot_discovered_network()\n",
    "should_fail"
   ]
  },
  {
   "cell_type": "code",
   "execution_count": null,
   "id": "e15d4c2d",
   "metadata": {
    "execution": {
     "iopub.execute_input": "2024-08-05T18:49:30.012701Z",
     "iopub.status.busy": "2024-08-05T18:49:30.011841Z",
     "iopub.status.idle": "2024-08-05T18:49:30.039018Z",
     "shell.execute_reply": "2024-08-05T18:49:30.037994Z"
    },
    "papermill": {
     "duration": 0.122824,
     "end_time": "2024-08-05T18:49:30.040768",
     "exception": false,
     "start_time": "2024-08-05T18:49:29.917944",
     "status": "completed"
    },
    "tags": []
   },
   "outputs": [],
   "source": [
    "# 14\n",
    "flag = c2.connect_and_infect(\"Website\", \"Website[user=monitor]\", \"su\", \"monitorBashCreds\")\n",
    "dbg.plot_discovered_network()"
   ]
  },
  {
   "cell_type": "code",
   "execution_count": null,
   "id": "c79373f3",
   "metadata": {
    "execution": {
     "iopub.execute_input": "2024-08-05T18:49:30.297575Z",
     "iopub.status.busy": "2024-08-05T18:49:30.296662Z",
     "iopub.status.idle": "2024-08-05T18:49:30.324812Z",
     "shell.execute_reply": "2024-08-05T18:49:30.323569Z"
    },
    "papermill": {
     "duration": 0.182082,
     "end_time": "2024-08-05T18:49:30.326545",
     "exception": false,
     "start_time": "2024-08-05T18:49:30.144463",
     "status": "completed"
    },
    "tags": []
   },
   "outputs": [],
   "source": [
    "# 15\n",
    "outcome = c2.run_attack(\"Website[user=monitor]\", \"CredScan-HomeDirectory\")\n",
    "dbg.plot_discovered_network()"
   ]
  },
  {
   "cell_type": "code",
   "execution_count": null,
   "id": "439d2a46",
   "metadata": {
    "execution": {
     "iopub.execute_input": "2024-08-05T18:49:30.505029Z",
     "iopub.status.busy": "2024-08-05T18:49:30.504616Z",
     "iopub.status.idle": "2024-08-05T18:49:30.538208Z",
     "shell.execute_reply": "2024-08-05T18:49:30.536689Z"
    },
    "papermill": {
     "duration": 0.132276,
     "end_time": "2024-08-05T18:49:30.540443",
     "exception": false,
     "start_time": "2024-08-05T18:49:30.408167",
     "status": "completed"
    },
    "tags": []
   },
   "outputs": [],
   "source": [
    "# 16\n",
    "secrets = c2.connect_and_infect(\"client\", \"AzureResourceManager[user=monitor]\", \"HTTPS\", \"azuread_user_credentials\")\n",
    "dbg.plot_discovered_network()"
   ]
  },
  {
   "cell_type": "code",
   "execution_count": null,
   "id": "766373ac",
   "metadata": {
    "execution": {
     "iopub.execute_input": "2024-08-05T18:49:30.752872Z",
     "iopub.status.busy": "2024-08-05T18:49:30.751350Z",
     "iopub.status.idle": "2024-08-05T18:49:30.771992Z",
     "shell.execute_reply": "2024-08-05T18:49:30.770758Z"
    },
    "papermill": {
     "duration": 0.114768,
     "end_time": "2024-08-05T18:49:30.774396",
     "exception": false,
     "start_time": "2024-08-05T18:49:30.659628",
     "status": "completed"
    },
    "tags": []
   },
   "outputs": [],
   "source": [
    "c2.print_all_attacks()\n",
    "c2.total_reward()"
   ]
  }
 ],
 "metadata": {
  "celltoolbar": "Raw Cell Format",
  "jupytext": {
   "formats": "ipynb,auto:light"
  },
  "kernelspec": {
   "display_name": "Python 3",
   "language": "python",
   "name": "python3"
  },
  "language_info": {
   "codemirror_mode": {
    "name": "ipython",
    "version": 3
   },
   "file_extension": ".py",
   "mimetype": "text/x-python",
   "name": "python",
   "nbconvert_exporter": "python",
   "pygments_lexer": "ipython3",
   "version": "3.12.10"
  },
  "papermill": {
   "default_parameters": {},
   "duration": 6.075848,
   "end_time": "2024-08-05T18:49:31.412507",
   "environment_variables": {},
   "exception": null,
   "input_path": "notebooks/toyctf-solved.ipynb",
   "output_path": "notebooks/output/toyctf-solved.ipynb",
   "parameters": {},
   "start_time": "2024-08-05T18:49:25.336659",
   "version": "2.3.3"
  }
 },
 "nbformat": 4,
 "nbformat_minor": 5
}
