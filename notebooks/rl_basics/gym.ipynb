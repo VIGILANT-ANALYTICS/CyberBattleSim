{
 "cells": [
  {
   "cell_type": "code",
   "execution_count": 11,
   "id": "88befde1",
   "metadata": {},
   "outputs": [],
   "source": [
    "from __future__ import annotations\n",
    "from typing import Optional, Tuple, Dict, Any\n",
    "\n",
    "import numpy as np\n",
    "import gymnasium as gym\n",
    "from gymnasium import spaces\n",
    "import matplotlib.pyplot as plt\n",
    "\n",
    "\n",
    "# %%\n",
    "class TinyMaze3x3(gym.Env):\n",
    "    \"\"\"A tiny 3x3 maze with hardcoded walls. Keep it simple.\n",
    "\n",
    "    Start=(0,0), Goal=(2,2), Walls={(1,1),(1,0)}\n",
    "    Observation: int in [0..8] (r*3 + c)\n",
    "    Actions: 0=UP, 1=RIGHT, 2=DOWN, 3=LEFT\n",
    "    \"\"\"\n",
    "\n",
    "    metadata = {\"render_modes\": [\"ansi\", \"human\", \"rgb_array\"]}\n",
    "\n",
    "    UP, RIGHT, DOWN, LEFT = 0, 1, 2, 3\n",
    "\n",
    "    def __init__(self, render_mode: Optional[str] = None):\n",
    "        super().__init__()\n",
    "        self.n = 3\n",
    "        self.start = (0, 0)\n",
    "        self.goal = (2, 2)\n",
    "        self.walls = {(1, 1), (1, 0)}  # <— edit these if you want\n",
    "        self.max_steps = 10\n",
    "\n",
    "        # There are 4 unique actions / Only one can be chosen at any time\n",
    "        self.action_space = spaces.Discrete(4)\n",
    "        # The game state is a single number up to n**2\n",
    "        self.observation_space = spaces.Discrete(self.n * self.n)\n",
    "\n",
    "        self.render_mode = render_mode\n",
    "        self.agent_pos = self.start\n",
    "        self.step_count = 0\n",
    "\n",
    "    # ---- helpers ----\n",
    "    # Simply returns encoding of the position in the maze\n",
    "    def _to_obs(self, pos: Tuple[int, int]) -> int:\n",
    "        r, c = pos\n",
    "        return r * self.n + c\n",
    "\n",
    "    def _in_bounds(self, r: int, c: int) -> bool:\n",
    "        return 0 <= r < self.n and 0 <= c < self.n\n",
    "\n",
    "    def _move(self, action: int, pos: Tuple[int, int]) -> Tuple[Tuple[int, int], bool]:\n",
    "        r, c = pos\n",
    "        if action == self.UP:\n",
    "            cand = (r - 1, c)\n",
    "        elif action == self.RIGHT:\n",
    "            cand = (r, c + 1)\n",
    "        elif action == self.DOWN:\n",
    "            cand = (r + 1, c)\n",
    "        elif action == self.LEFT:\n",
    "            cand = (r, c - 1)\n",
    "        else:\n",
    "            return pos, False\n",
    "        if self._in_bounds(*cand) and cand not in self.walls:\n",
    "            return cand, True\n",
    "        return pos, False\n",
    "\n",
    "    # ---- core API ----\n",
    "    # Same as ml-agents OnEpisodeStart();\n",
    "    # Goal here is to clean and reset all the environment\n",
    "    def reset(\n",
    "        self, *, seed: Optional[int] = None, options: Optional[Dict[str, Any]] = None\n",
    "    ):\n",
    "        super().reset(seed=seed)\n",
    "        # Reposition agent to starting cells\n",
    "        self.agent_pos = self.start\n",
    "        # Reset step counter\n",
    "        self.step_count = 0\n",
    "        # Returning game state + info (useless for now, but you can use it to create some nice analysis)\n",
    "        return self._to_obs(self.agent_pos), {\"pos\": self.agent_pos, \"goal\": self.goal}\n",
    "\n",
    "    def step(self, action: int):\n",
    "        assert self.action_space.contains(action)\n",
    "        self.step_count += 1\n",
    "\n",
    "        new_pos, moved = self._move(action, self.agent_pos)\n",
    "        self.agent_pos = new_pos\n",
    "\n",
    "        reward = -0.01\n",
    "        if not moved:\n",
    "            reward += -0.05\n",
    "\n",
    "        terminated = self.agent_pos == self.goal\n",
    "        truncated = (self.step_count >= self.max_steps) and not terminated\n",
    "\n",
    "        obs = self._to_obs(self.agent_pos)\n",
    "        info = {\"pos\": self.agent_pos, \"moved\": moved, \"step\": self.step_count}\n",
    "        if terminated:\n",
    "            reward += 1.0\n",
    "        return obs, reward, terminated, truncated, info\n",
    "\n",
    "    def render(self):\n",
    "        fig, ax = plt.subplots(figsize=(3, 3))\n",
    "        ax.set_xlim(-0.5, self.n - 0.5)\n",
    "        ax.set_ylim(-0.5, self.n - 0.5)\n",
    "        ax.set_xticks(range(self.n))\n",
    "        ax.set_yticks(range(self.n))\n",
    "        ax.grid(True)\n",
    "        ax.invert_yaxis()\n",
    "\n",
    "        # Draw walls\n",
    "        for r, c in self.walls:\n",
    "            ax.add_patch(plt.Rectangle((c - 0.5, r - 0.5), 1, 1))\n",
    "\n",
    "        # Draw start, goal, agent\n",
    "        sr, sc = self.start\n",
    "        gr, gc = self.goal\n",
    "        ar, ac = self.agent_pos\n",
    "        ax.text(sc, sr, \"S\", ha=\"center\", va=\"center\", fontsize=16, color=\"green\")\n",
    "        ax.text(gc, gr, \"G\", ha=\"center\", va=\"center\", fontsize=16, color=\"red\")\n",
    "        ax.text(ac, ar, \"A\", ha=\"center\", va=\"center\", fontsize=16, color=\"blue\")\n",
    "\n",
    "        if self.render_mode == \"human\":\n",
    "            # Video like rendering\n",
    "            # Jupyter-friendly update\n",
    "            from IPython.display import display, clear_output\n",
    "\n",
    "            clear_output(wait=True)\n",
    "            display(fig)\n",
    "            plt.close(fig)\n",
    "            return None\n",
    "        else:\n",
    "            plt.close(fig)\n",
    "            return fig\n",
    "\n",
    "    def close(self):\n",
    "        pass"
   ]
  },
  {
   "cell_type": "code",
   "execution_count": 12,
   "id": "e5bdabd6",
   "metadata": {},
   "outputs": [],
   "source": [
    "env = TinyMaze3x3(render_mode=\"human\")\n",
    "# Obs contains the game state (which is also the NN/Agent input 99.99% of the times)\n",
    "obs, info = env.reset(seed=0)\n",
    "# Done keeps track of whether the game is done or not\n",
    "done = False"
   ]
  },
  {
   "cell_type": "code",
   "execution_count": 13,
   "id": "b3869701",
   "metadata": {},
   "outputs": [
    {
     "data": {
      "image/png": "[encoded data removed]",
      "text/plain": [
       "<Figure size 300x300 with 1 Axes>"
      ]
     },
     "metadata": {},
     "output_type": "display_data"
    }
   ],
   "source": [
    "# This renders the env\n",
    "env.render()"
   ]
  },
  {
   "cell_type": "code",
   "execution_count": 14,
   "id": "e9bdefa6",
   "metadata": {},
   "outputs": [
    {
     "name": "stdout",
     "output_type": "stream",
     "text": [
      "0\n"
     ]
    }
   ],
   "source": [
    "# Game state (we are in cell (0,0))\n",
    "print(obs)"
   ]
  },
  {
   "cell_type": "code",
   "execution_count": 15,
   "id": "c01d727b",
   "metadata": {},
   "outputs": [
    {
     "data": {
      "image/png": "[encoded data removed]",
      "text/plain": [
       "<Figure size 300x300 with 1 Axes>"
      ]
     },
     "metadata": {},
     "output_type": "display_data"
    }
   ],
   "source": [
    "# With env.step(action) you apply actions to the env\n",
    "obs, reward, terminated, truncated, info = env.step(env.RIGHT)\n",
    "env.render()"
   ]
  },
  {
   "cell_type": "code",
   "execution_count": 16,
   "id": "f790aeab",
   "metadata": {},
   "outputs": [
    {
     "name": "stdout",
     "output_type": "stream",
     "text": [
      "1\n"
     ]
    }
   ],
   "source": [
    "# New state\n",
    "print(obs)"
   ]
  },
  {
   "cell_type": "code",
   "execution_count": 17,
   "id": "905ea69b",
   "metadata": {},
   "outputs": [
    {
     "name": "stdout",
     "output_type": "stream",
     "text": [
      "-0.01\n"
     ]
    }
   ],
   "source": [
    "# Reward is -0.01 because we did not reach a target and did not do an invalid action\n",
    "print(reward)"
   ]
  },
  {
   "cell_type": "code",
   "execution_count": 18,
   "id": "80e3ca16",
   "metadata": {},
   "outputs": [
    {
     "name": "stdout",
     "output_type": "stream",
     "text": [
      "False\n"
     ]
    }
   ],
   "source": [
    "# The env is not done yet\n",
    "print(done)"
   ]
  },
  {
   "cell_type": "code",
   "execution_count": 19,
   "id": "7dfa7aa5",
   "metadata": {},
   "outputs": [
    {
     "name": "stdout",
     "output_type": "stream",
     "text": [
      "Discrete(4)\n",
      "0\n"
     ]
    }
   ],
   "source": [
    "# Action space are stored in env.action_space\n",
    "print(env.action_space)\n",
    "# Print a random action\n",
    "print(env.action_space.sample())"
   ]
  },
  {
   "cell_type": "code",
   "execution_count": 26,
   "id": "6576d92a",
   "metadata": {},
   "outputs": [
    {
     "data": {
      "image/png": "[encoded data removed]",
      "text/plain": [
       "<Figure size 300x300 with 1 Axes>"
      ]
     },
     "metadata": {},
     "output_type": "display_data"
    }
   ],
   "source": [
    "env = TinyMaze3x3(render_mode=\"human\")\n",
    "# Obs contains the game state (which is also the NN/Agent input 99.99% of the times)\n",
    "obs, info = env.reset(seed=0)\n",
    "# Done keeps track of whether the game is done or not\n",
    "done = False\n",
    "#\n",
    "while not done:\n",
    "    # try a random policy\n",
    "    a = env.action_space.sample()\n",
    "    print(a)\n",
    "    obs, reward, terminated, truncated, info = env.step(a)\n",
    "    done = terminated or truncated\n",
    "    env.render()\n",
    "env.close()"
   ]
  },
  {
   "cell_type": "code",
   "execution_count": null,
   "id": "b682940c",
   "metadata": {},
   "outputs": [],
   "source": []
  }
 ],
 "metadata": {
  "kernelspec": {
   "display_name": "cybershield",
   "language": "python",
   "name": "python3"
  },
  "language_info": {
   "codemirror_mode": {
    "name": "ipython",
    "version": 3
   },
   "file_extension": ".py",
   "mimetype": "text/x-python",
   "name": "python",
   "nbconvert_exporter": "python",
   "pygments_lexer": "ipython3",
   "version": "3.11.9"
  }
 },
 "nbformat": 4,
 "nbformat_minor": 5
}
