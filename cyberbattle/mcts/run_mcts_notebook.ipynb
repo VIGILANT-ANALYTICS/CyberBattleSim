{
 "cells": [
  {
   "cell_type": "code",
   "execution_count": 4,
   "id": "bb9a8ec2",
   "metadata": {},
   "outputs": [],
   "source": [
    "# Copyright (c) Microsoft Corporation.\n",
    "# Licensed under the MIT License.\n",
    "\n",
    "\"\"\"A sample run of the CyberBattle simulation\"\"\"\n",
    "\n",
    "from typing import cast\n",
    "from cyberbattle.mcts.node import Node\n",
    "import gymnasium as gym\n",
    "import numpy as np\n",
    "import logging\n",
    "import sys\n",
    "import math\n",
    "import copy\n",
    "from cyberbattle._env.cyberbattle_env import CyberBattleEnv"
   ]
  },
  {
   "cell_type": "code",
   "execution_count": 5,
   "id": "276e228d",
   "metadata": {},
   "outputs": [],
   "source": [
    "\n",
    "\"\"\"Entry point if called as an executable\"\"\"\n",
    "\n",
    "root = logging.getLogger()\n",
    "root.setLevel(logging.DEBUG)\n",
    "\n",
    "handler = logging.StreamHandler(sys.stdout)\n",
    "handler.setLevel(logging.DEBUG)\n",
    "formatter = logging.Formatter(\"%(asctime)s - %(name)s - %(levelname)s - %(message)s\")\n",
    "handler.setFormatter(formatter)\n",
    "root.addHandler(handler)\n",
    "\n",
    "# Disable logging\n",
    "handler.setLevel(logging.CRITICAL + 1)\n",
    "root.setLevel(logging.CRITICAL + 1)\n"
   ]
  },
  {
   "cell_type": "code",
   "execution_count": null,
   "id": "96816dea",
   "metadata": {},
   "outputs": [],
   "source": [
    "class MCTS:\n",
    "    def __init__(self, env):\n",
    "        self.env = env\n",
    "        self.root = Node(\n",
    "            env=env,\n",
    "            parent=None\n",
    "        )\n",
    "\n",
    "    def random_playout(self, node):\n",
    "        print(\"Starting random playout\")\n",
    "        env = copy.deepcopy(node.env)\n",
    "        reward = 0\n",
    "        counter = 0\n",
    "        while not env.is_done():\n",
    "            counter += 1\n",
    "            action = env.sample_valid_action()\n",
    "            _, reward, _, _, _ = env.step(action)\n",
    "\n",
    "\n",
    "            print(f\"Action: {action}, reward: {reward}\")\n",
    "            if counter >= 10:\n",
    "                return -100\n",
    "        return reward\n",
    "\n",
    "    def step(self, current_node):\n",
    "        if current_node == None:\n",
    "            print(\"BUG\")\n",
    "            return\n",
    "        if len(current_node.children) == 0:\n",
    "            current_node.expand()\n",
    "            value = self.random_playout(current_node)\n",
    "            current_node.backpropagate(value)\n",
    "            return\n",
    "        else:\n",
    "            children_scores = [c.eval() for c in current_node.children]\n",
    "            best_children = np.random.choice(\n",
    "                np.argwhere(children_scores == np.amax(children_scores)).flatten()\n",
    "            )\n",
    "            current_node = current_node.children[best_children]\n",
    "            self.step(current_node)\n",
    "        return\n"
   ]
  },
  {
   "cell_type": "code",
   "execution_count": 21,
   "id": "506db04a",
   "metadata": {},
   "outputs": [
    {
     "name": "stdout",
     "output_type": "stream",
     "text": [
      "Starting random playout\n",
      "Action: {'local_vulnerability': array([0, 1], dtype=int32)}, reward: 0.0\n",
      "Action: {'connect': array([0, 1, 0, 0], dtype=int32)}, reward: 0.0\n",
      "Action: {'local_vulnerability': array([0, 1], dtype=int32)}, reward: 0.0\n",
      "Action: {'connect': array([0, 0, 0, 0], dtype=int32)}, reward: 0.0\n",
      "Action: {'connect': array([0, 0, 0, 0], dtype=int32)}, reward: 0.0\n",
      "Action: {'connect': array([0, 1, 0, 0], dtype=int32)}, reward: 0.0\n",
      "Action: {'local_vulnerability': array([0, 0], dtype=int32)}, reward: 6\n",
      "Action: {'local_vulnerability': array([0, 1], dtype=int32)}, reward: 0.0\n",
      "Action: {'connect': array([0, 1, 0, 0], dtype=int32)}, reward: 0.0\n",
      "Action: {'connect': array([0, 0, 0, 0], dtype=int32)}, reward: 0.0\n"
     ]
    }
   ],
   "source": [
    "# for _ in range(1):\n",
    "# env = cast(CyberBattleEnv, gym.make(\"CyberBattleToyCtf-v0\"))\n",
    "env = cast(CyberBattleEnv, gym.make(\"SimpleNetwork-v1\"))\n",
    "obs, _ = env.reset()\n",
    "mcts = MCTS(env=env)\n",
    "current_node = mcts.root\n",
    "# while True:\n",
    "if env.is_done():\n",
    "    env.render()\n",
    "else:\n",
    "    # mcts = MCTS(env=env)\n",
    "    for _ in range(1):\n",
    "        mcts.step(current_node)\n",
    "    # pi = current_node.get_node_probabilities()\n",
    "    # chosen_child = np.random.choice(len(current_node.children),p=pi)\n",
    "    # env.step(current_node.children[chosen_child].action)\n",
    "    # print(current_node.children[chosen_child].action)\n",
    "    # env.render()\n",
    "    # current_node = current_node.children[chosen_child]\n",
    "    # print(pi)"
   ]
  },
  {
   "cell_type": "code",
   "execution_count": 8,
   "id": "23c52c36",
   "metadata": {},
   "outputs": [
    {
     "name": "stdout",
     "output_type": "stream",
     "text": [
      "[<cyberbattle.mcts.node.Node object at 0x75e32f0ff2b0>, <cyberbattle.mcts.node.Node object at 0x75e32f0ffe50>]\n",
      "[]\n",
      "5000.0\n",
      "0\n",
      "0\n"
     ]
    }
   ],
   "source": [
    "print(current_node.children)\n",
    "print(mcts.root.children[0].get_node_probabilities())\n",
    "print(mcts.root.accumulated_reward)\n",
    "print(mcts.root.children[0].accumulated_reward)\n",
    "print(mcts.root.children[1].accumulated_reward)"
   ]
  }
 ],
 "metadata": {
  "kernelspec": {
   "display_name": "cybersim",
   "language": "python",
   "name": "python3"
  },
  "language_info": {
   "codemirror_mode": {
    "name": "ipython",
    "version": 3
   },
   "file_extension": ".py",
   "mimetype": "text/x-python",
   "name": "python",
   "nbconvert_exporter": "python",
   "pygments_lexer": "ipython3",
   "version": "3.10.18"
  }
 },
 "nbformat": 4,
 "nbformat_minor": 5
}
